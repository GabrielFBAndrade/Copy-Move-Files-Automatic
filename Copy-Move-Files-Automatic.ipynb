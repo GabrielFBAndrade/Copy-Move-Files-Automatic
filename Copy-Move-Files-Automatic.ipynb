{
 "cells": [
  {
   "cell_type": "markdown",
   "id": "c14ae4ac",
   "metadata": {},
   "source": [
    "# Automatização para Copiar arquivos de uma pasta para outra"
   ]
  },
  {
   "cell_type": "markdown",
   "id": "96039701",
   "metadata": {},
   "source": [
    "A seguir, através dos comentários iniciados com \"#\" irei comentar o código explicando cada linha, esse é o código inicial. Ele tem como objetivo copiar aquivos de uma pasta para outra."
   ]
  },
  {
   "cell_type": "code",
   "execution_count": 15,
   "id": "9c50868b",
   "metadata": {},
   "outputs": [
    {
     "name": "stdout",
     "output_type": "stream",
     "text": [
      "A1.txt\n",
      "C:/Users/gabri/OneDrive/Área de Trabalho/C\\A1.txt\n",
      "1\n",
      "A2.txt\n",
      "C:/Users/gabri/OneDrive/Área de Trabalho/C\\A2.txt\n",
      "2\n",
      "B1.txt\n",
      "C:/Users/gabri/OneDrive/Área de Trabalho/C\\B1.txt\n",
      "1\n",
      "B2.txt\n",
      "C:/Users/gabri/OneDrive/Área de Trabalho/C\\B2.txt\n",
      "2\n",
      "B3.txt\n",
      "C:/Users/gabri/OneDrive/Área de Trabalho/C\\B3.txt\n",
      "3\n"
     ]
    }
   ],
   "source": [
    "#importando as bibliotecas necessárias, são biliotecas padrões do Python, sem a necessidade de ter que instalar.\n",
    "import os\n",
    "import shutil\n",
    "#seleção da pasta de origem (\"original_folder\") e das pastas destino (\"A_folder\" e \"B_folder\")\n",
    "original_folder = 'C:/Users/gabri/OneDrive/Área de Trabalho/C'\n",
    "A_folder = 'C:/Users/gabri/OneDrive/Área de Trabalho/A'\n",
    "B_folder = 'C:/Users/gabri/OneDrive/Área de Trabalho/B'\n",
    "#Itera sobre os diretórios, subdiretórios e arquivos da pasta de origem usando o método os.walk()\n",
    "for dirs, subdirs, files in os.walk(original_folder):\n",
    "    for file in files: #itera sobre cada arquivo\n",
    "        if file.startswith('A'): #verifica se cada arquivo começa com o caractere \"A\"\n",
    "            print(file) # escreve o nome desse arquivo\n",
    "            filename = os.path.join(dirs,file) #cria o caminho do arquivo\n",
    "            if os.path.exists(filename): #verifica se o arquivo já existe\n",
    "                print(filename) #imprime o caminho do arquivo\n",
    "                shutil.copy(filename,A_folder) #copia o arquivo para o diretório de destino\n",
    "                print(len(os.listdir(A_folder)))\n",
    "        else: #essa é a segunda condição, caso a primeira não seja verdadeira, realiza as mesmas funções anteriores\n",
    "            print(file)\n",
    "            filename = os.path.join(dirs,file)\n",
    "            if os.path.exists(filename):\n",
    "                print(filename)\n",
    "                shutil.copy(filename,B_folder)\n",
    "                print(len(os.listdir(B_folder)))"
   ]
  },
  {
   "cell_type": "markdown",
   "id": "62541738",
   "metadata": {},
   "source": [
    "Da mesma maneira que a biblioteca \"Shutil\" tem o método de copiar, ela também tem o método de colar. No próximo código iremos explorar essa funcionalidade."
   ]
  },
  {
   "cell_type": "markdown",
   "id": "522cfcdf",
   "metadata": {},
   "source": [
    "# Automatização para Mover arquivos de uma pasta para outra"
   ]
  },
  {
   "cell_type": "markdown",
   "id": "7ba0d676",
   "metadata": {},
   "source": [
    "Esse segundo código faz a mesma coisa do anterior, exceto por mover o arquivo e estar mais otimizado."
   ]
  },
  {
   "cell_type": "code",
   "execution_count": 2,
   "id": "b993df39",
   "metadata": {},
   "outputs": [
    {
     "name": "stdout",
     "output_type": "stream",
     "text": [
      "A.txt\n",
      "C:/Users/gabri/OneDrive/Área de Trabalho/Programming Projects/Copy-Move-Files-Automatic\\A.txt\n",
      "1\n",
      "B.txt\n",
      "C:/Users/gabri/OneDrive/Área de Trabalho/Programming Projects/Copy-Move-Files-Automatic\\B.txt\n",
      "1\n",
      "A.txt\n",
      "B.txt\n"
     ]
    }
   ],
   "source": [
    "#importar as bibliotecas\n",
    "import os\n",
    "import shutil\n",
    "\n",
    "# Caminhos dos diretórios\n",
    "original_folder = 'C:/Users/gabri/OneDrive/Área de Trabalho/Programming Projects/Copy-Move-Files-Automatic/C'\n",
    "A_folder = 'C:/Users/gabri/OneDrive/Área de Trabalho/Programming Projects/Copy-Move-Files-Automatic/A'\n",
    "B_folder = 'C:/Users/gabri/OneDrive/Área de Trabalho/Programming Projects/Copy-Move-Files-Automatic/B'\n",
    "\n",
    "# Função para mover arquivos para os diretórios A e B\n",
    "def move_file(file, source_folder, target_folder):\n",
    "    print(file)\n",
    "    filename = os.path.join(source_folder, file)\n",
    "    \n",
    "    if os.path.exists(filename):\n",
    "        print(filename)\n",
    "        shutil.move(filename, target_folder)\n",
    "        print(len(os.listdir(target_folder)))\n",
    "\n",
    "# Iteração sobre os arquivos\n",
    "for dirs, subdirs, files in os.walk(original_folder):\n",
    "    for file in files:\n",
    "        if os.path.basename(file).startswith('A'): #define o parâmetro para seleção do arquivo\n",
    "            move_file(file, original_folder, A_folder) #move os arquivos para a pasta desejada com base na condição definina\n",
    "        else:\n",
    "            move_file(file, original_folder, B_folder)\n"
   ]
  },
  {
   "cell_type": "markdown",
   "id": "d456551b",
   "metadata": {},
   "source": [
    "# Código de rascunho, apenas para o caso do anterior não funcionar."
   ]
  },
  {
   "cell_type": "code",
   "execution_count": 12,
   "id": "e6f07621",
   "metadata": {},
   "outputs": [
    {
     "name": "stdout",
     "output_type": "stream",
     "text": [
      "A1.txt\n",
      "C:/Users/gabri/OneDrive/Área de Trabalho/C\\A1.txt\n",
      "1\n",
      "A2.txt\n",
      "C:/Users/gabri/OneDrive/Área de Trabalho/C\\A2.txt\n",
      "2\n",
      "B1.txt\n",
      "C:/Users/gabri/OneDrive/Área de Trabalho/C\\B1.txt\n",
      "1\n",
      "B2.txt\n",
      "C:/Users/gabri/OneDrive/Área de Trabalho/C\\B2.txt\n",
      "2\n",
      "B3.txt\n",
      "C:/Users/gabri/OneDrive/Área de Trabalho/C\\B3.txt\n",
      "3\n"
     ]
    }
   ],
   "source": [
    "import os\n",
    "import shutil\n",
    "\n",
    "original_folder = 'C:/Users/gabri/OneDrive/Área de Trabalho/C'\n",
    "A_folder = 'C:/Users/gabri/OneDrive/Área de Trabalho/A'\n",
    "B_folder = 'C:/Users/gabri/OneDrive/Área de Trabalho/B'\n",
    "\n",
    "for dirs, subdirs, files in os.walk(original_folder):\n",
    "    for file in files:\n",
    "        if file.startswith('A'):\n",
    "            print(file)\n",
    "            \n",
    "            filename = os.path.join(dirs,file)\n",
    "            \n",
    "            if os.path.exists(filename):\n",
    "                \n",
    "                print(filename)\n",
    "                \n",
    "                shutil.move(filename,A_folder)\n",
    "                \n",
    "                print(len(os.listdir(A_folder)))\n",
    "        else:\n",
    "            print(file)\n",
    "            \n",
    "            filename = os.path.join(dirs,file)\n",
    "            \n",
    "            if os.path.exists(filename):\n",
    "                \n",
    "                print(filename)\n",
    "                \n",
    "                shutil.move(filename,B_folder)\n",
    "                \n",
    "                print(len(os.listdir(B_folder)))"
   ]
  }
 ],
 "metadata": {
  "kernelspec": {
   "display_name": "Python 3 (ipykernel)",
   "language": "python",
   "name": "python3"
  },
  "language_info": {
   "codemirror_mode": {
    "name": "ipython",
    "version": 3
   },
   "file_extension": ".py",
   "mimetype": "text/x-python",
   "name": "python",
   "nbconvert_exporter": "python",
   "pygments_lexer": "ipython3",
   "version": "3.10.5"
  }
 },
 "nbformat": 4,
 "nbformat_minor": 5
}
